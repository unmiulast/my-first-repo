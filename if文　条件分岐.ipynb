{
  "nbformat": 4,
  "nbformat_minor": 0,
  "metadata": {
    "colab": {
      "provenance": [],
      "include_colab_link": true
    },
    "kernelspec": {
      "name": "python3",
      "display_name": "Python 3"
    },
    "language_info": {
      "name": "python"
    }
  },
  "cells": [
    {
      "cell_type": "markdown",
      "metadata": {
        "id": "view-in-github",
        "colab_type": "text"
      },
      "source": [
        "<a href=\"https://colab.research.google.com/github/unmiulast/my-first-repo/blob/main/if%E6%96%87%E3%80%80%E6%9D%A1%E4%BB%B6%E5%88%86%E5%B2%90.ipynb\" target=\"_parent\"><img src=\"https://colab.research.google.com/assets/colab-badge.svg\" alt=\"Open In Colab\"/></a>"
      ]
    },
    {
      "cell_type": "code",
      "execution_count": null,
      "metadata": {
        "colab": {
          "base_uri": "https://localhost:8080/",
          "height": 35
        },
        "id": "RXG3aqIWVzPk",
        "outputId": "f686275e-7c9b-4ade-8718-c880d917b3d0"
      },
      "outputs": [
        {
          "output_type": "execute_result",
          "data": {
            "text/plain": [
              "'adult'"
            ],
            "application/vnd.google.colaboratory.intrinsic+json": {
              "type": "string"
            }
          },
          "metadata": {},
          "execution_count": 3
        }
      ],
      "source": [
        "age = 20\n",
        "\n",
        "if age < 12:\n",
        "  status = \"child\"\n",
        "else:\n",
        "  status = \"adult\"\n",
        "\n",
        "status"
      ]
    },
    {
      "cell_type": "code",
      "source": [
        "age = 70\n",
        "\n",
        "if age < 12:\n",
        "  status = \"child\"\n",
        "elif age < 65:\n",
        "  status = \"adult\"\n",
        "else:\n",
        "  status = \"senior\"\n",
        "\n",
        "status"
      ],
      "metadata": {
        "colab": {
          "base_uri": "https://localhost:8080/",
          "height": 35
        },
        "id": "5DUAd1fW-JP7",
        "outputId": "7e2e2fb1-ecba-49a5-9556-3241afb4d6ba"
      },
      "execution_count": null,
      "outputs": [
        {
          "output_type": "execute_result",
          "data": {
            "text/plain": [
              "'senior'"
            ],
            "application/vnd.google.colaboratory.intrinsic+json": {
              "type": "string"
            }
          },
          "metadata": {},
          "execution_count": 5
        }
      ]
    },
    {
      "cell_type": "code",
      "source": [
        "age = 60\n",
        "gender = \"female\"\n",
        "\n",
        "if age < 12:\n",
        "  status = \"child\"\n",
        "elif age < 65 and gender == \"male\":\n",
        "  status = \"male-adult\"\n",
        "elif age < 65 and gender == \"female\":\n",
        "  status = \"female-adult\"\n",
        "else:\n",
        "  status = \"senior\"\n",
        "\n",
        "status"
      ],
      "metadata": {
        "colab": {
          "base_uri": "https://localhost:8080/",
          "height": 35
        },
        "id": "QvpSUqKu-kDd",
        "outputId": "b6226a4c-8ea1-4460-ac9e-31c1b7239cac"
      },
      "execution_count": null,
      "outputs": [
        {
          "output_type": "execute_result",
          "data": {
            "text/plain": [
              "'female-adult'"
            ],
            "application/vnd.google.colaboratory.intrinsic+json": {
              "type": "string"
            }
          },
          "metadata": {},
          "execution_count": 8
        }
      ]
    },
    {
      "cell_type": "code",
      "source": [],
      "metadata": {
        "id": "FYFR7bmv-8aF"
      },
      "execution_count": null,
      "outputs": []
    }
  ]
}