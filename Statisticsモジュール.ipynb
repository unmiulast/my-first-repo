{
  "nbformat": 4,
  "nbformat_minor": 0,
  "metadata": {
    "colab": {
      "provenance": [],
      "include_colab_link": true
    },
    "kernelspec": {
      "name": "python3",
      "display_name": "Python 3"
    },
    "language_info": {
      "name": "python"
    }
  },
  "cells": [
    {
      "cell_type": "markdown",
      "metadata": {
        "id": "view-in-github",
        "colab_type": "text"
      },
      "source": [
        "<a href=\"https://colab.research.google.com/github/unmiulast/my-first-repo/blob/main/Statistics%E3%83%A2%E3%82%B7%E3%82%99%E3%83%A5%E3%83%BC%E3%83%AB.ipynb\" target=\"_parent\"><img src=\"https://colab.research.google.com/assets/colab-badge.svg\" alt=\"Open In Colab\"/></a>"
      ]
    },
    {
      "cell_type": "code",
      "execution_count": 2,
      "metadata": {
        "id": "689orO3lbRkv"
      },
      "outputs": [],
      "source": [
        "import statistics"
      ]
    },
    {
      "cell_type": "code",
      "source": [
        "a = [1, 2, 3, 4, 5, 5, 6]\n",
        "statistics.mean(a)"
      ],
      "metadata": {
        "colab": {
          "base_uri": "https://localhost:8080/"
        },
        "id": "xLdF4lTgbg4a",
        "outputId": "17eee7a8-6931-4879-8ebf-a08bbb581c48"
      },
      "execution_count": 3,
      "outputs": [
        {
          "output_type": "execute_result",
          "data": {
            "text/plain": [
              "3.7142857142857144"
            ]
          },
          "metadata": {},
          "execution_count": 3
        }
      ]
    },
    {
      "cell_type": "markdown",
      "source": [
        "平均値"
      ],
      "metadata": {
        "id": "WneWcNgdzbAV"
      }
    },
    {
      "cell_type": "code",
      "source": [
        "sum(a) / len(a)"
      ],
      "metadata": {
        "colab": {
          "base_uri": "https://localhost:8080/"
        },
        "id": "EbAPin4-bnj5",
        "outputId": "4e3fccf5-c52c-4bb7-ac79-d75185844aed"
      },
      "execution_count": 4,
      "outputs": [
        {
          "output_type": "execute_result",
          "data": {
            "text/plain": [
              "3.7142857142857144"
            ]
          },
          "metadata": {},
          "execution_count": 4
        }
      ]
    },
    {
      "cell_type": "markdown",
      "source": [
        "標準関数でも計算できる"
      ],
      "metadata": {
        "id": "FeO7z1PMzV9A"
      }
    },
    {
      "cell_type": "code",
      "source": [
        "statistics.median(a)"
      ],
      "metadata": {
        "colab": {
          "base_uri": "https://localhost:8080/"
        },
        "id": "ml-VefbcbrUI",
        "outputId": "16b231fc-afb0-4487-9048-e87c034f87ff"
      },
      "execution_count": 5,
      "outputs": [
        {
          "output_type": "execute_result",
          "data": {
            "text/plain": [
              "4"
            ]
          },
          "metadata": {},
          "execution_count": 5
        }
      ]
    },
    {
      "cell_type": "markdown",
      "source": [
        "中央値"
      ],
      "metadata": {
        "id": "7WtdmlC1zme4"
      }
    },
    {
      "cell_type": "code",
      "source": [
        "statistics.mode(a)"
      ],
      "metadata": {
        "colab": {
          "base_uri": "https://localhost:8080/"
        },
        "id": "lm3Ypkllb3dG",
        "outputId": "b4604632-255d-4103-f356-0ac72a8d07b6"
      },
      "execution_count": 6,
      "outputs": [
        {
          "output_type": "execute_result",
          "data": {
            "text/plain": [
              "5"
            ]
          },
          "metadata": {},
          "execution_count": 6
        }
      ]
    },
    {
      "cell_type": "markdown",
      "source": [
        "最頻値"
      ],
      "metadata": {
        "id": "czojwFsUzpgn"
      }
    },
    {
      "cell_type": "code",
      "source": [
        "statistics.variance(a)"
      ],
      "metadata": {
        "colab": {
          "base_uri": "https://localhost:8080/"
        },
        "id": "hIapfGmKcC2K",
        "outputId": "1d2374f8-d156-4c63-e85f-402e9fa19a7e"
      },
      "execution_count": 7,
      "outputs": [
        {
          "output_type": "execute_result",
          "data": {
            "text/plain": [
              "3.238095238095238"
            ]
          },
          "metadata": {},
          "execution_count": 7
        }
      ]
    },
    {
      "cell_type": "markdown",
      "source": [
        "分散・この数値がどれだけばらついているかというのを表す指標"
      ],
      "metadata": {
        "id": "0mgBOVzhz20j"
      }
    },
    {
      "cell_type": "code",
      "source": [
        "statistics.stdev(a)"
      ],
      "metadata": {
        "id": "HGxoRC9acH7J",
        "outputId": "ed3121d2-fd51-4afd-af58-c57022d19204",
        "colab": {
          "base_uri": "https://localhost:8080/"
        }
      },
      "execution_count": 8,
      "outputs": [
        {
          "output_type": "execute_result",
          "data": {
            "text/plain": [
              "1.7994708216848747"
            ]
          },
          "metadata": {},
          "execution_count": 8
        }
      ]
    },
    {
      "cell_type": "markdown",
      "source": [
        "標準偏差\n"
      ],
      "metadata": {
        "id": "n0d0dPDoz-Ny"
      }
    },
    {
      "cell_type": "code",
      "source": [],
      "metadata": {
        "id": "5lONZuw0cMY-"
      },
      "execution_count": 8,
      "outputs": []
    }
  ]
}