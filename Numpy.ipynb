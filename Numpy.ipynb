{
  "nbformat": 4,
  "nbformat_minor": 0,
  "metadata": {
    "colab": {
      "provenance": [],
      "include_colab_link": true
    },
    "kernelspec": {
      "name": "python3",
      "display_name": "Python 3"
    },
    "language_info": {
      "name": "python"
    }
  },
  "cells": [
    {
      "cell_type": "markdown",
      "metadata": {
        "id": "view-in-github",
        "colab_type": "text"
      },
      "source": [
        "<a href=\"https://colab.research.google.com/github/unmiulast/my-first-repo/blob/main/Numpy.ipynb\" target=\"_parent\"><img src=\"https://colab.research.google.com/assets/colab-badge.svg\" alt=\"Open In Colab\"/></a>"
      ]
    },
    {
      "cell_type": "code",
      "source": [
        "!pip install numpy==2.0.2"
      ],
      "metadata": {
        "colab": {
          "base_uri": "https://localhost:8080/"
        },
        "id": "5rkCgjbWl8Ua",
        "outputId": "3b35dcc8-d592-4920-c492-5e1d5f56c6d7"
      },
      "execution_count": 2,
      "outputs": [
        {
          "output_type": "stream",
          "name": "stdout",
          "text": [
            "Requirement already satisfied: numpy==2.0.2 in /usr/local/lib/python3.11/dist-packages (2.0.2)\n"
          ]
        }
      ]
    },
    {
      "cell_type": "code",
      "source": [
        "import numpy as np"
      ],
      "metadata": {
        "id": "90BOhwdjmzvc"
      },
      "execution_count": 3,
      "outputs": []
    },
    {
      "cell_type": "code",
      "source": [
        "# 配列のパターン\n",
        "a = np.array([1, 2, 3])\n",
        "b = np.array([10, 20, 30])\n",
        "print(a + b)\n",
        "print(a*2)"
      ],
      "metadata": {
        "colab": {
          "base_uri": "https://localhost:8080/"
        },
        "id": "3g4jLA0pm2v2",
        "outputId": "bb5ddaff-96a2-4ff2-a119-01fa2ddd83b6"
      },
      "execution_count": 4,
      "outputs": [
        {
          "output_type": "stream",
          "name": "stdout",
          "text": [
            "[11 22 33]\n",
            "[2 4 6]\n"
          ]
        }
      ]
    },
    {
      "cell_type": "markdown",
      "source": [
        "ベクトル演算をしている"
      ],
      "metadata": {
        "id": "KBWZoZaadKOq"
      }
    },
    {
      "cell_type": "code",
      "source": [
        "# リストのパターン\n",
        "# a = [1, 2, 3]\n",
        "# b = [10, 20, 30]\n",
        "# print(a + b)\n",
        "# print(a*2)"
      ],
      "metadata": {
        "id": "AAzFQuvcm6eU"
      },
      "execution_count": 5,
      "outputs": []
    },
    {
      "cell_type": "markdown",
      "source": [
        "配列型とリスト型の違い"
      ],
      "metadata": {
        "id": "D1oqmxw2dasO"
      }
    },
    {
      "cell_type": "code",
      "source": [
        "a[1]\n",
        "a[:2]"
      ],
      "metadata": {
        "colab": {
          "base_uri": "https://localhost:8080/"
        },
        "id": "xA7uzyJ0nUWH",
        "outputId": "330f5ed6-6863-473e-a0ec-e5d96d7351a3"
      },
      "execution_count": 6,
      "outputs": [
        {
          "output_type": "execute_result",
          "data": {
            "text/plain": [
              "array([1, 2])"
            ]
          },
          "metadata": {},
          "execution_count": 6
        }
      ]
    },
    {
      "cell_type": "code",
      "source": [
        "# 統計量計算\n",
        "\n",
        "a = np.array([1, 2, 3, 4, 5])\n",
        "np.sum(a) #総和\n",
        "np.mean(a) #平均値\n",
        "np.median(a) #中央値\n",
        "np.std(a) #標準偏差"
      ],
      "metadata": {
        "colab": {
          "base_uri": "https://localhost:8080/"
        },
        "id": "7Q99tq2cncOQ",
        "outputId": "0c3f2493-335e-414e-c4e5-1c55fe284080"
      },
      "execution_count": 7,
      "outputs": [
        {
          "output_type": "execute_result",
          "data": {
            "text/plain": [
              "np.float64(1.4142135623730951)"
            ]
          },
          "metadata": {},
          "execution_count": 7
        }
      ]
    },
    {
      "cell_type": "code",
      "source": [
        "# 多次元配列\n",
        "\n",
        "A = np.array([[1, 2], [3, 4], [5, 6]])\n",
        "A"
      ],
      "metadata": {
        "colab": {
          "base_uri": "https://localhost:8080/"
        },
        "id": "VLoB2SLDnwo_",
        "outputId": "58391949-c25f-44f1-fb98-6a883c33181a"
      },
      "execution_count": 8,
      "outputs": [
        {
          "output_type": "execute_result",
          "data": {
            "text/plain": [
              "array([[1, 2],\n",
              "       [3, 4],\n",
              "       [5, 6]])"
            ]
          },
          "metadata": {},
          "execution_count": 8
        }
      ]
    },
    {
      "cell_type": "code",
      "source": [
        "A.shape"
      ],
      "metadata": {
        "colab": {
          "base_uri": "https://localhost:8080/"
        },
        "id": "rrR_WavqoAJ7",
        "outputId": "754f31df-fcf7-412f-e40a-315e9562d90a"
      },
      "execution_count": 9,
      "outputs": [
        {
          "output_type": "execute_result",
          "data": {
            "text/plain": [
              "(3, 2)"
            ]
          },
          "metadata": {},
          "execution_count": 9
        }
      ]
    },
    {
      "cell_type": "markdown",
      "source": [
        "◯行◯列"
      ],
      "metadata": {
        "id": "4aXDrT94ea36"
      }
    },
    {
      "cell_type": "code",
      "source": [
        "A.T.shape"
      ],
      "metadata": {
        "colab": {
          "base_uri": "https://localhost:8080/"
        },
        "id": "YLNaxb1JoDHb",
        "outputId": "3eec663b-8bc6-42bd-ee46-0f02bb6123ab"
      },
      "execution_count": 10,
      "outputs": [
        {
          "output_type": "execute_result",
          "data": {
            "text/plain": [
              "(2, 3)"
            ]
          },
          "metadata": {},
          "execution_count": 10
        }
      ]
    },
    {
      "cell_type": "markdown",
      "source": [
        "転置"
      ],
      "metadata": {
        "id": "rMOqai3YejF7"
      }
    },
    {
      "cell_type": "code",
      "source": [
        "# 実際の例\n",
        "scores = np.array([80, 90, 75, 100])\n",
        "\n",
        "mean = np.mean(scores)\n",
        "scores - mean"
      ],
      "metadata": {
        "colab": {
          "base_uri": "https://localhost:8080/"
        },
        "id": "7WmXc05SoHO5",
        "outputId": "10d89a7c-d2bb-46eb-a219-fc88de57235c"
      },
      "execution_count": 11,
      "outputs": [
        {
          "output_type": "execute_result",
          "data": {
            "text/plain": [
              "array([ -6.25,   3.75, -11.25,  13.75])"
            ]
          },
          "metadata": {},
          "execution_count": 11
        }
      ]
    },
    {
      "cell_type": "code",
      "source": [
        "# 配列の作成\n",
        "np.random.rand(3, 2)\n",
        "np.zeros((3, 2))\n",
        "np.arange(0, 100, 2)"
      ],
      "metadata": {
        "colab": {
          "base_uri": "https://localhost:8080/"
        },
        "id": "ncwalpdMob7V",
        "outputId": "00691bd2-1ed0-45d3-ee55-bf30c99a043e"
      },
      "execution_count": 12,
      "outputs": [
        {
          "output_type": "execute_result",
          "data": {
            "text/plain": [
              "array([ 0,  2,  4,  6,  8, 10, 12, 14, 16, 18, 20, 22, 24, 26, 28, 30, 32,\n",
              "       34, 36, 38, 40, 42, 44, 46, 48, 50, 52, 54, 56, 58, 60, 62, 64, 66,\n",
              "       68, 70, 72, 74, 76, 78, 80, 82, 84, 86, 88, 90, 92, 94, 96, 98])"
            ]
          },
          "metadata": {},
          "execution_count": 12
        }
      ]
    },
    {
      "cell_type": "code",
      "source": [
        "np.random.rand(3, 2)\n"
      ],
      "metadata": {
        "id": "yg599XCQolg9",
        "colab": {
          "base_uri": "https://localhost:8080/"
        },
        "outputId": "9c8be9f5-3a39-477e-bdc7-94959d0e99b0"
      },
      "execution_count": 13,
      "outputs": [
        {
          "output_type": "execute_result",
          "data": {
            "text/plain": [
              "array([[0.30477241, 0.02405771],\n",
              "       [0.29832627, 0.02019164],\n",
              "       [0.07070215, 0.26707209]])"
            ]
          },
          "metadata": {},
          "execution_count": 13
        }
      ]
    },
    {
      "cell_type": "code",
      "source": [
        "np.zeros((3, 2))"
      ],
      "metadata": {
        "colab": {
          "base_uri": "https://localhost:8080/"
        },
        "id": "I6Lk6G8GgD5k",
        "outputId": "11e1ea40-3ad3-455e-8088-4d783eb015bf"
      },
      "execution_count": 14,
      "outputs": [
        {
          "output_type": "execute_result",
          "data": {
            "text/plain": [
              "array([[0., 0.],\n",
              "       [0., 0.],\n",
              "       [0., 0.]])"
            ]
          },
          "metadata": {},
          "execution_count": 14
        }
      ]
    }
  ]
}