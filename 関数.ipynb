{
  "nbformat": 4,
  "nbformat_minor": 0,
  "metadata": {
    "colab": {
      "provenance": [],
      "include_colab_link": true
    },
    "kernelspec": {
      "name": "python3",
      "display_name": "Python 3"
    },
    "language_info": {
      "name": "python"
    }
  },
  "cells": [
    {
      "cell_type": "markdown",
      "metadata": {
        "id": "view-in-github",
        "colab_type": "text"
      },
      "source": [
        "<a href=\"https://colab.research.google.com/github/unmiulast/my-first-repo/blob/main/%E9%96%A2%E6%95%B0.ipynb\" target=\"_parent\"><img src=\"https://colab.research.google.com/assets/colab-badge.svg\" alt=\"Open In Colab\"/></a>"
      ]
    },
    {
      "cell_type": "code",
      "source": [
        "print(\"Hello\")"
      ],
      "metadata": {
        "colab": {
          "base_uri": "https://localhost:8080/"
        },
        "id": "wNYtcnxSFXn0",
        "outputId": "788d5b65-1251-4f35-d7d2-80f9e49791e0"
      },
      "execution_count": null,
      "outputs": [
        {
          "output_type": "stream",
          "name": "stdout",
          "text": [
            "Hello\n"
          ]
        }
      ]
    },
    {
      "cell_type": "markdown",
      "source": [
        "関数とは、端的に言うと特定の処理をまとめて扱いやすくしたものです。"
      ],
      "metadata": {
        "id": "QYGRFFVBncXM"
      }
    },
    {
      "cell_type": "markdown",
      "source": [
        "Pythonに標準に組み込まれた関数・標準関数になります。"
      ],
      "metadata": {
        "id": "zlqFPRJ8nlll"
      }
    },
    {
      "cell_type": "code",
      "source": [
        "len(\"Hello\")"
      ],
      "metadata": {
        "colab": {
          "base_uri": "https://localhost:8080/"
        },
        "id": "RCQQhDcrFzMk",
        "outputId": "61ff8878-fc6b-4c49-c7e8-d194421c4006"
      },
      "execution_count": 1,
      "outputs": [
        {
          "output_type": "execute_result",
          "data": {
            "text/plain": [
              "5"
            ]
          },
          "metadata": {},
          "execution_count": 1
        }
      ]
    },
    {
      "cell_type": "code",
      "source": [
        "a = [1, 2, 3]\n",
        "len(a)"
      ],
      "metadata": {
        "colab": {
          "base_uri": "https://localhost:8080/"
        },
        "id": "-wsZ_I7LF3oZ",
        "outputId": "f532c531-1334-43e1-d0d3-d954145384b4"
      },
      "execution_count": null,
      "outputs": [
        {
          "output_type": "execute_result",
          "data": {
            "text/plain": [
              "3"
            ]
          },
          "metadata": {},
          "execution_count": 6
        }
      ]
    },
    {
      "cell_type": "markdown",
      "source": [
        "lenという関数の中では、文字列であれば文字数を数えて合計数を最終的に出力する\n",
        "\n",
        "リストであれば要素を数えて合計数を出力するという処理が内部的に行われている"
      ],
      "metadata": {
        "id": "r0Ka1Kjyn6kq"
      }
    },
    {
      "cell_type": "code",
      "source": [
        "## 独自関数\n",
        "\n",
        "age = 60\n",
        "gender = \"female\"\n",
        "\n",
        "if age < 12:\n",
        "  status = \"child\"\n",
        "elif age < 65 and gender == \"male\":\n",
        "  status = \"male-adult\"\n",
        "elif age < 65 and gender == \"female\":\n",
        "  status = \"female-adult\"\n",
        "else:\n",
        "  status = \"senior\"\n",
        "\n",
        "status"
      ],
      "metadata": {
        "colab": {
          "base_uri": "https://localhost:8080/",
          "height": 35
        },
        "id": "PsWPMBrAF75q",
        "outputId": "00b64581-ac77-4ea5-ac00-c52325994922"
      },
      "execution_count": null,
      "outputs": [
        {
          "output_type": "execute_result",
          "data": {
            "text/plain": [
              "'female-adult'"
            ],
            "application/vnd.google.colaboratory.intrinsic+json": {
              "type": "string"
            }
          },
          "metadata": {},
          "execution_count": 7
        }
      ]
    },
    {
      "cell_type": "code",
      "source": [
        "## 独自関数\n",
        "\n",
        "age = 60\n",
        "gender = \"female\"\n",
        "\n",
        "if age < 12:\n",
        "  status = \"child\"\n",
        "elif age < 65 and gender == \"male\":\n",
        "  status = \"male-adult\"\n",
        "elif age < 65 and gender == \"female\":\n",
        "  status = \"female-adult\"\n",
        "else:\n",
        "  status = \"senior\"\n",
        "\n",
        "print(status)\n",
        "\n",
        "\n",
        "age = 70\n",
        "gender = \"male\"\n",
        "\n",
        "if age < 12:\n",
        "  status = \"child\"\n",
        "elif age < 65 and gender == \"male\":\n",
        "  status = \"male-adult\"\n",
        "elif age < 65 and gender == \"female\":\n",
        "  status = \"female-adult\"\n",
        "else:\n",
        "  status = \"senior\"\n",
        "\n",
        "print(status)"
      ],
      "metadata": {
        "colab": {
          "base_uri": "https://localhost:8080/"
        },
        "id": "T785E9fvGbqm",
        "outputId": "544364bb-4385-4f0d-f313-bd5c30f78981"
      },
      "execution_count": null,
      "outputs": [
        {
          "output_type": "stream",
          "name": "stdout",
          "text": [
            "female-adult\n",
            "senior\n"
          ]
        }
      ]
    },
    {
      "cell_type": "markdown",
      "source": [
        "同じ全く同じif文の処理を繰り返しているので、非常に冗長だ"
      ],
      "metadata": {
        "id": "FxYI9s8sos6s"
      }
    },
    {
      "cell_type": "code",
      "source": [
        "# def 関数名(引数):\n",
        "#   処理\n",
        "\n",
        "def ticket(age, gender):\n",
        "  if age < 12:\n",
        "    status = \"child\"\n",
        "  elif age < 65 and gender == \"male\":\n",
        "    status = \"male-adult\"\n",
        "  elif age < 65 and gender == \"female\":\n",
        "    status = \"female-adult\"\n",
        "  else:\n",
        "    status = \"senior\"\n",
        "  return status\n",
        "\n"
      ],
      "metadata": {
        "id": "ate11IxaGnqj"
      },
      "execution_count": null,
      "outputs": []
    },
    {
      "cell_type": "code",
      "source": [
        "## 独自関数\n",
        "\n",
        "age = 60\n",
        "gender = \"female\"\n",
        "\n",
        "status = ticket(age, gender)\n",
        "print(status)\n",
        "\n",
        "\n",
        "age = 70\n",
        "gender = \"male\"\n",
        "\n",
        "status = ticket(age, gender)\n",
        "print(status)"
      ],
      "metadata": {
        "colab": {
          "base_uri": "https://localhost:8080/"
        },
        "id": "eOXSazpFHJqW",
        "outputId": "1a1c946f-651f-4167-e4e3-b42783ec5e60"
      },
      "execution_count": null,
      "outputs": [
        {
          "output_type": "stream",
          "name": "stdout",
          "text": [
            "female-adult\n",
            "senior\n"
          ]
        }
      ]
    },
    {
      "cell_type": "code",
      "source": [],
      "metadata": {
        "id": "jRw4o2A9HQl5"
      },
      "execution_count": null,
      "outputs": []
    }
  ]
}