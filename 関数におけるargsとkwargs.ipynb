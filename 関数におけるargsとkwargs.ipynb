{
  "nbformat": 4,
  "nbformat_minor": 0,
  "metadata": {
    "colab": {
      "provenance": [],
      "include_colab_link": true
    },
    "kernelspec": {
      "name": "python3",
      "display_name": "Python 3"
    },
    "language_info": {
      "name": "python"
    }
  },
  "cells": [
    {
      "cell_type": "markdown",
      "metadata": {
        "id": "view-in-github",
        "colab_type": "text"
      },
      "source": [
        "<a href=\"https://colab.research.google.com/github/unmiulast/my-first-repo/blob/main/%E9%96%A2%E6%95%B0%E3%81%AB%E3%81%8A%E3%81%91%E3%82%8Bargs%E3%81%A8kwargs.ipynb\" target=\"_parent\"><img src=\"https://colab.research.google.com/assets/colab-badge.svg\" alt=\"Open In Colab\"/></a>"
      ]
    },
    {
      "cell_type": "code",
      "execution_count": null,
      "metadata": {
        "colab": {
          "base_uri": "https://localhost:8080/"
        },
        "id": "Avq9TG95Ke-F",
        "outputId": "c775d411-6140-4549-cbbd-f1a14e159fc5"
      },
      "outputs": [
        {
          "output_type": "execute_result",
          "data": {
            "text/plain": [
              "7"
            ]
          },
          "metadata": {},
          "execution_count": 1
        }
      ],
      "source": [
        "def sum_num(x, y):\n",
        "  return x + y\n",
        "sum_num(3, 4)"
      ]
    },
    {
      "cell_type": "code",
      "source": [
        "# args\n",
        "def sum_num(*args):\n",
        "  return sum(args)\n",
        "\n",
        "sum_num(1, 2, 3, 4)"
      ],
      "metadata": {
        "colab": {
          "base_uri": "https://localhost:8080/"
        },
        "id": "ngMxYKlzMcTB",
        "outputId": "5ebc2aca-ab98-43b1-b89d-b71fe30f029c"
      },
      "execution_count": null,
      "outputs": [
        {
          "output_type": "execute_result",
          "data": {
            "text/plain": [
              "10"
            ]
          },
          "metadata": {},
          "execution_count": 4
        }
      ]
    },
    {
      "cell_type": "markdown",
      "source": [
        "アスタリスク1個の場合がここに任意の引数何でも値が入っていいですという印"
      ],
      "metadata": {
        "id": "8cY9YLTIqwBe"
      }
    },
    {
      "cell_type": "code",
      "source": [
        "# kwargs\n",
        "def introduce(**kwargs):\n",
        "  print(kwargs)\n",
        "  for key, value in kwargs.items():\n",
        "    print(f\"{key}は{value}です\", )\n",
        "\n",
        "introduce(name=\"Taro\", age=30)"
      ],
      "metadata": {
        "colab": {
          "base_uri": "https://localhost:8080/"
        },
        "id": "jt6i04LpMtZ5",
        "outputId": "c0dcad15-786e-4740-f47f-5274441c9d68"
      },
      "execution_count": null,
      "outputs": [
        {
          "output_type": "stream",
          "name": "stdout",
          "text": [
            "{'name': 'Taro', 'age': 30}\n",
            "nameはTaroです\n",
            "ageは30です\n"
          ]
        }
      ]
    },
    {
      "cell_type": "markdown",
      "source": [
        "アスタリスク2つ付けることに意味があります。"
      ],
      "metadata": {
        "id": "3b4MnC3KraIE"
      }
    },
    {
      "cell_type": "markdown",
      "source": [
        "キーワードと引数を入れてあげて、そこに値を入れるみたいな形でインプットできる"
      ],
      "metadata": {
        "id": "U9av5Wbhrkzh"
      }
    },
    {
      "cell_type": "code",
      "source": [],
      "metadata": {
        "id": "Trr4dnQuNE_B"
      },
      "execution_count": null,
      "outputs": []
    }
  ]
}