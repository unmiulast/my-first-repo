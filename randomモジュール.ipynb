{
  "nbformat": 4,
  "nbformat_minor": 0,
  "metadata": {
    "colab": {
      "provenance": [],
      "include_colab_link": true
    },
    "kernelspec": {
      "name": "python3",
      "display_name": "Python 3"
    },
    "language_info": {
      "name": "python"
    }
  },
  "cells": [
    {
      "cell_type": "markdown",
      "metadata": {
        "id": "view-in-github",
        "colab_type": "text"
      },
      "source": [
        "<a href=\"https://colab.research.google.com/github/unmiulast/my-first-repo/blob/main/random%E3%83%A2%E3%82%B7%E3%82%99%E3%83%A5%E3%83%BC%E3%83%AB.ipynb\" target=\"_parent\"><img src=\"https://colab.research.google.com/assets/colab-badge.svg\" alt=\"Open In Colab\"/></a>"
      ]
    },
    {
      "cell_type": "code",
      "execution_count": 21,
      "metadata": {
        "colab": {
          "base_uri": "https://localhost:8080/"
        },
        "id": "RGsvWL59X5WG",
        "outputId": "ff978e24-5598-43e6-919c-97eb6f2fbb54"
      },
      "outputs": [
        {
          "output_type": "execute_result",
          "data": {
            "text/plain": [
              "1"
            ]
          },
          "metadata": {},
          "execution_count": 21
        }
      ],
      "source": [
        "import random\n",
        "\n",
        "a = [1, 2, 3, 4, 5]\n",
        "random.choice(a)"
      ]
    },
    {
      "cell_type": "code",
      "source": [
        "random.sample(a, 2)"
      ],
      "metadata": {
        "colab": {
          "base_uri": "https://localhost:8080/"
        },
        "id": "KPxYXo6wYRS3",
        "outputId": "8f535a85-a177-44e3-9ee5-2676862ac93d"
      },
      "execution_count": 22,
      "outputs": [
        {
          "output_type": "execute_result",
          "data": {
            "text/plain": [
              "[1, 3]"
            ]
          },
          "metadata": {},
          "execution_count": 22
        }
      ]
    },
    {
      "cell_type": "markdown",
      "source": [
        "重複なし\n"
      ],
      "metadata": {
        "id": "lfucf0r1xwDy"
      }
    },
    {
      "cell_type": "code",
      "source": [
        "random.choices(a, k=10)"
      ],
      "metadata": {
        "colab": {
          "base_uri": "https://localhost:8080/"
        },
        "id": "ZoR1Kz0dYYod",
        "outputId": "8b799475-875d-4d61-9d6b-c66d52705ac8"
      },
      "execution_count": 23,
      "outputs": [
        {
          "output_type": "execute_result",
          "data": {
            "text/plain": [
              "[2, 1, 1, 4, 3, 3, 1, 1, 2, 4]"
            ]
          },
          "metadata": {},
          "execution_count": 23
        }
      ]
    },
    {
      "cell_type": "markdown",
      "source": [
        "重複あり"
      ],
      "metadata": {
        "id": "Fougxb3jx0S1"
      }
    },
    {
      "cell_type": "code",
      "source": [
        "random.seed(42)\n",
        "\n",
        "random.choices(a, k=10)"
      ],
      "metadata": {
        "colab": {
          "base_uri": "https://localhost:8080/"
        },
        "id": "YjmrEGUbYiDH",
        "outputId": "2940be98-3d24-4ab1-c4fc-deb617feb971"
      },
      "execution_count": 24,
      "outputs": [
        {
          "output_type": "execute_result",
          "data": {
            "text/plain": [
              "[4, 1, 2, 2, 4, 4, 5, 1, 3, 1]"
            ]
          },
          "metadata": {},
          "execution_count": 24
        }
      ]
    },
    {
      "cell_type": "markdown",
      "source": [
        "シードを指定すると、この乱数発生のランダムサンプリングの処理のこの結果が固定"
      ],
      "metadata": {
        "id": "JKrYwSCbyJ24"
      }
    },
    {
      "cell_type": "markdown",
      "source": [
        "## 乱数発生"
      ],
      "metadata": {
        "id": "4FfNNr2KaB2s"
      }
    },
    {
      "cell_type": "code",
      "source": [
        "random.random()"
      ],
      "metadata": {
        "colab": {
          "base_uri": "https://localhost:8080/"
        },
        "id": "7jtUAoeRYxCa",
        "outputId": "92137b48-727f-4389-ef04-588109498da2"
      },
      "execution_count": 31,
      "outputs": [
        {
          "output_type": "execute_result",
          "data": {
            "text/plain": [
              "0.1395379285251439"
            ]
          },
          "metadata": {},
          "execution_count": 31
        }
      ]
    },
    {
      "cell_type": "markdown",
      "source": [
        "0~1の間の少数"
      ],
      "metadata": {
        "id": "RUQWNBG4yW6v"
      }
    },
    {
      "cell_type": "markdown",
      "source": [],
      "metadata": {
        "id": "ZvfC4EpLyW27"
      }
    },
    {
      "cell_type": "code",
      "source": [
        "random.uniform(0, 100)"
      ],
      "metadata": {
        "colab": {
          "base_uri": "https://localhost:8080/"
        },
        "id": "JPW1l9tXaEoz",
        "outputId": "6b6b996c-38a8-4bec-85f5-72f2fd41ff98"
      },
      "execution_count": 26,
      "outputs": [
        {
          "output_type": "execute_result",
          "data": {
            "text/plain": [
              "50.53552881033624"
            ]
          },
          "metadata": {},
          "execution_count": 26
        }
      ]
    },
    {
      "cell_type": "markdown",
      "source": [
        "0~100の範囲"
      ],
      "metadata": {
        "id": "u45J_8pEydmp"
      }
    },
    {
      "cell_type": "code",
      "source": [
        "random.seed(42)\n",
        "random.randint(0, 100)"
      ],
      "metadata": {
        "colab": {
          "base_uri": "https://localhost:8080/"
        },
        "id": "zXFUgi9BaLr_",
        "outputId": "9cf81add-6d7c-4a8c-801a-c7206d2705d9"
      },
      "execution_count": 27,
      "outputs": [
        {
          "output_type": "execute_result",
          "data": {
            "text/plain": [
              "81"
            ]
          },
          "metadata": {},
          "execution_count": 27
        }
      ]
    },
    {
      "cell_type": "markdown",
      "source": [
        "整数が帰ってくる"
      ],
      "metadata": {
        "id": "RrGYOqVyyjVh"
      }
    },
    {
      "cell_type": "code",
      "source": [],
      "metadata": {
        "id": "HW4d69xMaQtW"
      },
      "execution_count": 27,
      "outputs": []
    }
  ]
}