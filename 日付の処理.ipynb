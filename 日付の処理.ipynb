{
  "nbformat": 4,
  "nbformat_minor": 0,
  "metadata": {
    "colab": {
      "provenance": [],
      "gpuType": "T4",
      "include_colab_link": true
    },
    "kernelspec": {
      "name": "python3",
      "display_name": "Python 3"
    },
    "language_info": {
      "name": "python"
    },
    "accelerator": "GPU"
  },
  "cells": [
    {
      "cell_type": "markdown",
      "metadata": {
        "id": "view-in-github",
        "colab_type": "text"
      },
      "source": [
        "<a href=\"https://colab.research.google.com/github/unmiulast/my-first-repo/blob/main/%E6%97%A5%E4%BB%98%E3%81%AE%E5%87%A6%E7%90%86.ipynb\" target=\"_parent\"><img src=\"https://colab.research.google.com/assets/colab-badge.svg\" alt=\"Open In Colab\"/></a>"
      ]
    },
    {
      "cell_type": "code",
      "execution_count": 1,
      "metadata": {
        "colab": {
          "base_uri": "https://localhost:8080/"
        },
        "id": "F79W9SGZcoO_",
        "outputId": "4534f549-7dbf-4745-c990-5d570a96cc7c"
      },
      "outputs": [
        {
          "output_type": "stream",
          "name": "stdout",
          "text": [
            "2025-04-14 15:14:34.569575\n",
            "<class 'datetime.datetime'>\n"
          ]
        }
      ],
      "source": [
        "import datetime\n",
        "\n",
        "now = datetime.datetime.now()\n",
        "print(now)\n",
        "print(type(now))"
      ]
    },
    {
      "cell_type": "code",
      "source": [
        "# 日付だけ抽出\n",
        "now.day"
      ],
      "metadata": {
        "colab": {
          "base_uri": "https://localhost:8080/"
        },
        "id": "YvxeSLW5eNjQ",
        "outputId": "7ae1870e-d529-43cd-8692-38d7d8c15b88"
      },
      "execution_count": 4,
      "outputs": [
        {
          "output_type": "execute_result",
          "data": {
            "text/plain": [
              "14"
            ]
          },
          "metadata": {},
          "execution_count": 4
        }
      ]
    },
    {
      "cell_type": "code",
      "source": [
        "now.year"
      ],
      "metadata": {
        "colab": {
          "base_uri": "https://localhost:8080/"
        },
        "id": "TO6lPyT52QxK",
        "outputId": "0a53e4d0-0e61-4156-8fb3-0c7267105b61"
      },
      "execution_count": 3,
      "outputs": [
        {
          "output_type": "execute_result",
          "data": {
            "text/plain": [
              "2025"
            ]
          },
          "metadata": {},
          "execution_count": 3
        }
      ]
    },
    {
      "cell_type": "code",
      "source": [
        "# datetime型をdate型に変換\n",
        "print(now.date())\n",
        "print(type(now.date()))\n",
        "\n",
        "today = datetime.date.today()\n",
        "print(today)"
      ],
      "metadata": {
        "colab": {
          "base_uri": "https://localhost:8080/"
        },
        "id": "Tqw-IJEqeTuq",
        "outputId": "aa186966-7d7c-4a8b-aff2-c0b59074c336"
      },
      "execution_count": 5,
      "outputs": [
        {
          "output_type": "stream",
          "name": "stdout",
          "text": [
            "2025-04-14\n",
            "<class 'datetime.date'>\n",
            "2025-04-14\n"
          ]
        }
      ]
    },
    {
      "cell_type": "code",
      "source": [
        "# datetime型をtime型に変換\n",
        "print(now.time())\n",
        "print(type(now.time()))\n"
      ],
      "metadata": {
        "colab": {
          "base_uri": "https://localhost:8080/"
        },
        "id": "Z69X11iHefOG",
        "outputId": "4ad7dd13-6156-49a0-fbea-8ccd33495c13"
      },
      "execution_count": 6,
      "outputs": [
        {
          "output_type": "stream",
          "name": "stdout",
          "text": [
            "15:14:34.569575\n",
            "<class 'datetime.time'>\n"
          ]
        }
      ]
    },
    {
      "cell_type": "code",
      "source": [
        "# timedeltaによる日時の加算\n",
        "print(now + datetime.timedelta(days=10))"
      ],
      "metadata": {
        "colab": {
          "base_uri": "https://localhost:8080/"
        },
        "id": "VqAbs0Xre0Oj",
        "outputId": "2ab4aeff-fc6e-4b5e-84a6-1ead88e51005"
      },
      "execution_count": 7,
      "outputs": [
        {
          "output_type": "stream",
          "name": "stdout",
          "text": [
            "2025-04-24 15:14:34.569575\n"
          ]
        }
      ]
    },
    {
      "cell_type": "code",
      "source": [
        "now"
      ],
      "metadata": {
        "colab": {
          "base_uri": "https://localhost:8080/"
        },
        "id": "4zTSOv1_fiYA",
        "outputId": "95dbeb4c-2739-429c-f653-539219fc2131"
      },
      "execution_count": 8,
      "outputs": [
        {
          "output_type": "execute_result",
          "data": {
            "text/plain": [
              "datetime.datetime(2025, 4, 14, 15, 14, 34, 569575)"
            ]
          },
          "metadata": {},
          "execution_count": 8
        }
      ]
    },
    {
      "cell_type": "code",
      "source": [
        "# strftimeによる日付→文字列変換\n",
        "print(now.strftime(\"%Y-%m-%d %H:%M:%S\"))"
      ],
      "metadata": {
        "colab": {
          "base_uri": "https://localhost:8080/"
        },
        "id": "o5lFSD8KfCBB",
        "outputId": "fa9d0d22-684a-4d81-bccb-a80cac8b8176"
      },
      "execution_count": 9,
      "outputs": [
        {
          "output_type": "stream",
          "name": "stdout",
          "text": [
            "2025-04-14 15:14:34\n"
          ]
        }
      ]
    },
    {
      "cell_type": "code",
      "source": [
        "# strptimeによる文字列→日付変換\n",
        "date = \"2025-04-01\"\n",
        "datetime.datetime.strptime(date, \"%Y-%m-%d\")"
      ],
      "metadata": {
        "colab": {
          "base_uri": "https://localhost:8080/"
        },
        "id": "ZEzivUU3fgLB",
        "outputId": "dda81cb7-f773-4441-c03b-da279941208d"
      },
      "execution_count": 10,
      "outputs": [
        {
          "output_type": "execute_result",
          "data": {
            "text/plain": [
              "datetime.datetime(2025, 4, 1, 0, 0)"
            ]
          },
          "metadata": {},
          "execution_count": 10
        }
      ]
    },
    {
      "cell_type": "code",
      "source": [],
      "metadata": {
        "id": "YfBVLpDif2vB"
      },
      "execution_count": null,
      "outputs": []
    }
  ]
}