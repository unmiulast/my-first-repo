{
  "nbformat": 4,
  "nbformat_minor": 0,
  "metadata": {
    "colab": {
      "provenance": [],
      "include_colab_link": true
    },
    "kernelspec": {
      "name": "python3",
      "display_name": "Python 3"
    },
    "language_info": {
      "name": "python"
    }
  },
  "cells": [
    {
      "cell_type": "markdown",
      "metadata": {
        "id": "view-in-github",
        "colab_type": "text"
      },
      "source": [
        "<a href=\"https://colab.research.google.com/github/unmiulast/my-first-repo/blob/main/%E4%BE%8B%E5%A4%96%E5%87%A6%E7%90%86.ipynb\" target=\"_parent\"><img src=\"https://colab.research.google.com/assets/colab-badge.svg\" alt=\"Open In Colab\"/></a>"
      ]
    },
    {
      "cell_type": "code",
      "execution_count": null,
      "metadata": {
        "colab": {
          "base_uri": "https://localhost:8080/",
          "height": 164
        },
        "id": "NfWr48bJVs53",
        "outputId": "b4fba9fe-88fa-4f97-9c43-da75ce9e0e4e"
      },
      "outputs": [
        {
          "output_type": "error",
          "ename": "ValueError",
          "evalue": "invalid literal for int() with base 10: 'Hello'",
          "traceback": [
            "\u001b[0;31m---------------------------------------------------------------------------\u001b[0m",
            "\u001b[0;31mValueError\u001b[0m                                Traceback (most recent call last)",
            "\u001b[0;32m<ipython-input-1-e5d4f8592916>\u001b[0m in \u001b[0;36m<cell line: 0>\u001b[0;34m()\u001b[0m\n\u001b[1;32m      1\u001b[0m \u001b[0minput\u001b[0m \u001b[0;34m=\u001b[0m \u001b[0;34m\"Hello\"\u001b[0m\u001b[0;34m\u001b[0m\u001b[0;34m\u001b[0m\u001b[0m\n\u001b[0;32m----> 2\u001b[0;31m \u001b[0mint\u001b[0m\u001b[0;34m(\u001b[0m\u001b[0minput\u001b[0m\u001b[0;34m)\u001b[0m\u001b[0;34m\u001b[0m\u001b[0;34m\u001b[0m\u001b[0m\n\u001b[0m",
            "\u001b[0;31mValueError\u001b[0m: invalid literal for int() with base 10: 'Hello'"
          ]
        }
      ],
      "source": [
        "input = \"Hello\"\n",
        "int(input)"
      ]
    },
    {
      "cell_type": "code",
      "source": [
        "# エラーハンドリング\n",
        "input = 3.3232\n",
        "try:\n",
        "  print(int(input))\n",
        "except ValueError:\n",
        "  print(\"数字ではありません\")"
      ],
      "metadata": {
        "colab": {
          "base_uri": "https://localhost:8080/"
        },
        "id": "GHvP8IHbWIzf",
        "outputId": "17e88084-7a56-4abf-9494-a857e40a5680"
      },
      "execution_count": null,
      "outputs": [
        {
          "output_type": "stream",
          "name": "stdout",
          "text": [
            "3\n"
          ]
        }
      ]
    },
    {
      "cell_type": "code",
      "source": [
        "input =\"Hey\"\n",
        "try:\n",
        "  print(int(input))\n",
        "except ValueError:\n",
        "  print(\"数字ではありません\")"
      ],
      "metadata": {
        "colab": {
          "base_uri": "https://localhost:8080/"
        },
        "id": "6ciEDm9hwEwe",
        "outputId": "9ad7f9d6-00c1-468d-9879-d8d08b97c061"
      },
      "execution_count": 3,
      "outputs": [
        {
          "output_type": "stream",
          "name": "stdout",
          "text": [
            "数字ではありません\n"
          ]
        }
      ]
    },
    {
      "cell_type": "code",
      "source": [
        "# 基本的な例外を全てキャッチ\n",
        "input = \"Hello\"\n",
        "a = [1, 2]\n",
        "try:\n",
        "  print(a[1])\n",
        "  print(int(input))\n",
        "except Exception as e:\n",
        "  print(\"エラー:\", e)"
      ],
      "metadata": {
        "colab": {
          "base_uri": "https://localhost:8080/"
        },
        "id": "ZhPEFX3qWW-e",
        "outputId": "e38f3202-bd6f-431e-ac21-8f48abe6fb5c"
      },
      "execution_count": 5,
      "outputs": [
        {
          "output_type": "stream",
          "name": "stdout",
          "text": [
            "2\n",
            "エラー: invalid literal for int() with base 10: 'Hello'\n"
          ]
        }
      ]
    },
    {
      "cell_type": "markdown",
      "source": [
        "色んなエラーがあるので、そのエラーを基本的な例外を全てキャッチするためのアプローチもあります。"
      ],
      "metadata": {
        "id": "4YEr4sPMwjmd"
      }
    },
    {
      "cell_type": "markdown",
      "source": [
        "Exception"
      ],
      "metadata": {
        "id": "149pp8y8xLNA"
      }
    },
    {
      "cell_type": "code",
      "source": [],
      "metadata": {
        "id": "DFwddN2XW0Ub"
      },
      "execution_count": null,
      "outputs": []
    }
  ]
}