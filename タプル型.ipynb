{
  "nbformat": 4,
  "nbformat_minor": 0,
  "metadata": {
    "colab": {
      "provenance": [],
      "include_colab_link": true
    },
    "kernelspec": {
      "name": "python3",
      "display_name": "Python 3"
    },
    "language_info": {
      "name": "python"
    }
  },
  "cells": [
    {
      "cell_type": "markdown",
      "metadata": {
        "id": "view-in-github",
        "colab_type": "text"
      },
      "source": [
        "<a href=\"https://colab.research.google.com/github/unmiulast/my-first-repo/blob/main/%E3%82%BF%E3%83%95%E3%82%9A%E3%83%AB%E5%9E%8B.ipynb\" target=\"_parent\"><img src=\"https://colab.research.google.com/assets/colab-badge.svg\" alt=\"Open In Colab\"/></a>"
      ]
    },
    {
      "cell_type": "code",
      "source": [
        "a_list = [1, 2, \"Hello\"]\n",
        "a_tuple = (1, 2, \"Hello\")"
      ],
      "metadata": {
        "id": "9cIYmXVrDPaB"
      },
      "execution_count": null,
      "outputs": []
    },
    {
      "cell_type": "code",
      "source": [
        "a_tuple[2]"
      ],
      "metadata": {
        "colab": {
          "base_uri": "https://localhost:8080/",
          "height": 35
        },
        "id": "UMHbh2P_DeR0",
        "outputId": "e2a87459-a914-481f-919c-942213940aac"
      },
      "execution_count": null,
      "outputs": [
        {
          "output_type": "execute_result",
          "data": {
            "text/plain": [
              "'Hello'"
            ],
            "application/vnd.google.colaboratory.intrinsic+json": {
              "type": "string"
            }
          },
          "metadata": {},
          "execution_count": 5
        }
      ]
    },
    {
      "cell_type": "markdown",
      "source": [
        "indexのかっこは [ ]"
      ],
      "metadata": {
        "id": "XMqqYXTBjJ5j"
      }
    },
    {
      "cell_type": "code",
      "source": [
        "a_tuple[2] = \"bye\""
      ],
      "metadata": {
        "colab": {
          "base_uri": "https://localhost:8080/",
          "height": 146
        },
        "id": "d_LHsN-NDhPY",
        "outputId": "74275fbf-3f43-4bac-8a9c-7574b5a6e44a"
      },
      "execution_count": null,
      "outputs": [
        {
          "output_type": "error",
          "ename": "TypeError",
          "evalue": "'tuple' object does not support item assignment",
          "traceback": [
            "\u001b[0;31m---------------------------------------------------------------------------\u001b[0m",
            "\u001b[0;31mTypeError\u001b[0m                                 Traceback (most recent call last)",
            "\u001b[0;32m<ipython-input-6-0f54fd16c750>\u001b[0m in \u001b[0;36m<cell line: 0>\u001b[0;34m()\u001b[0m\n\u001b[0;32m----> 1\u001b[0;31m \u001b[0ma_tuple\u001b[0m\u001b[0;34m[\u001b[0m\u001b[0;36m2\u001b[0m\u001b[0;34m]\u001b[0m \u001b[0;34m=\u001b[0m \u001b[0;34m\"bye\"\u001b[0m\u001b[0;34m\u001b[0m\u001b[0;34m\u001b[0m\u001b[0m\n\u001b[0m",
            "\u001b[0;31mTypeError\u001b[0m: 'tuple' object does not support item assignment"
          ]
        }
      ]
    },
    {
      "cell_type": "markdown",
      "source": [
        "中身を書き換えられない"
      ],
      "metadata": {
        "id": "WoTEcYzejULB"
      }
    },
    {
      "cell_type": "code",
      "source": [
        "a_list[2] = \"bye\"\n",
        "a_list"
      ],
      "metadata": {
        "colab": {
          "base_uri": "https://localhost:8080/"
        },
        "id": "7O01ll5eDn9Y",
        "outputId": "d9bb3b3c-a127-4916-f1ea-82414338485e"
      },
      "execution_count": null,
      "outputs": [
        {
          "output_type": "execute_result",
          "data": {
            "text/plain": [
              "[1, 2, 'bye']"
            ]
          },
          "metadata": {},
          "execution_count": 7
        }
      ]
    },
    {
      "cell_type": "code",
      "source": [
        "a_tuple = (1, 2, \"bye\")\n",
        "a_tuple\n",
        "\n",
        "b_tuple = (3, \"Hello\")\n",
        "\n",
        "a_tuple + b_tuple"
      ],
      "metadata": {
        "colab": {
          "base_uri": "https://localhost:8080/"
        },
        "id": "6zADwbs6Dq5T",
        "outputId": "d2e407fa-f11e-4b12-9319-2578fff14d40"
      },
      "execution_count": null,
      "outputs": [
        {
          "output_type": "execute_result",
          "data": {
            "text/plain": [
              "(1, 2, 'bye', 3, 'Hello')"
            ]
          },
          "metadata": {},
          "execution_count": 9
        }
      ]
    },
    {
      "cell_type": "markdown",
      "source": [
        "上書き・結合は可能"
      ],
      "metadata": {
        "id": "8rg7wuyWjiKF"
      }
    },
    {
      "cell_type": "code",
      "source": [
        "a_tuple[:2]"
      ],
      "metadata": {
        "colab": {
          "base_uri": "https://localhost:8080/"
        },
        "id": "_eE40udgD4aT",
        "outputId": "fe1f0553-7b4c-4bc3-d9be-cc7ecc35907a"
      },
      "execution_count": null,
      "outputs": [
        {
          "output_type": "execute_result",
          "data": {
            "text/plain": [
              "(1, 2)"
            ]
          },
          "metadata": {},
          "execution_count": 12
        }
      ]
    },
    {
      "cell_type": "code",
      "source": [
        "# タプルでは1つの要素でもカンマをつけないといけない\n",
        "a_list = [1]\n",
        "type(a_list)\n",
        "a_tuple = (1)\n",
        "type(a_tuple)\n",
        "a_tuple = (1,)\n",
        "type(a_tuple)"
      ],
      "metadata": {
        "colab": {
          "base_uri": "https://localhost:8080/"
        },
        "id": "8UjFoSQLED2J",
        "outputId": "ee8ea9f4-e7df-4e09-c74b-e5c13a1a8ac9"
      },
      "execution_count": null,
      "outputs": [
        {
          "output_type": "execute_result",
          "data": {
            "text/plain": [
              "tuple"
            ]
          },
          "metadata": {},
          "execution_count": 15
        }
      ]
    },
    {
      "cell_type": "code",
      "source": [],
      "metadata": {
        "id": "3HkTi40HETNr"
      },
      "execution_count": null,
      "outputs": []
    }
  ]
}