{
  "nbformat": 4,
  "nbformat_minor": 0,
  "metadata": {
    "colab": {
      "provenance": [],
      "include_colab_link": true
    },
    "kernelspec": {
      "name": "python3",
      "display_name": "Python 3"
    },
    "language_info": {
      "name": "python"
    }
  },
  "cells": [
    {
      "cell_type": "markdown",
      "metadata": {
        "id": "view-in-github",
        "colab_type": "text"
      },
      "source": [
        "<a href=\"https://colab.research.google.com/github/unmiulast/my-first-repo/blob/main/While%E6%96%87.ipynb\" target=\"_parent\"><img src=\"https://colab.research.google.com/assets/colab-badge.svg\" alt=\"Open In Colab\"/></a>"
      ]
    },
    {
      "cell_type": "code",
      "source": [
        "# 1~5の数字を出力\n",
        "i = 1\n",
        "while i <= 10:\n",
        "  print(i)\n",
        "  i += 1"
      ],
      "metadata": {
        "colab": {
          "base_uri": "https://localhost:8080/"
        },
        "id": "_8pXFHyFHz8R",
        "outputId": "cc90dc75-a9c5-4751-9c2a-bd3a7b9871a1"
      },
      "execution_count": null,
      "outputs": [
        {
          "output_type": "stream",
          "name": "stdout",
          "text": [
            "1\n",
            "2\n",
            "3\n",
            "4\n",
            "5\n",
            "6\n",
            "7\n",
            "8\n",
            "9\n",
            "10\n"
          ]
        }
      ]
    },
    {
      "cell_type": "markdown",
      "source": [
        "whileの後には条件式が来るんですね。\n",
        "\n",
        "この条件式を満たす限り、これがTRUEな限り、この後続の処理を回し続けて下さいという処理"
      ],
      "metadata": {
        "id": "gg5JECvVlLp-"
      }
    },
    {
      "cell_type": "code",
      "source": [
        "i = 1\n",
        "while True:\n",
        "  print(i)\n",
        "  i += 1\n",
        "  if i >= 5:\n",
        "    break"
      ],
      "metadata": {
        "colab": {
          "base_uri": "https://localhost:8080/"
        },
        "id": "IIhGV465ImFf",
        "outputId": "aeb6c4de-3346-40a2-a8c7-512deebde378"
      },
      "execution_count": null,
      "outputs": [
        {
          "output_type": "stream",
          "name": "stdout",
          "text": [
            "1\n",
            "2\n",
            "3\n",
            "4\n"
          ]
        }
      ]
    },
    {
      "cell_type": "code",
      "source": [
        "# breakされずにwhile文が完了したらelse下が実行される、breakしたら実行されない\n",
        "\n",
        "number = [1, 3, 5, 6, 7, 9]\n",
        "i = 0\n",
        "\n",
        "while i < len(number):\n",
        "  if number[i] == 6:\n",
        "    print(\"6が見つかりました\")\n",
        "    break\n",
        "  i += 1\n",
        "else:\n",
        "  print(\"6は見つかりませんでした\")\n",
        "\n"
      ],
      "metadata": {
        "colab": {
          "base_uri": "https://localhost:8080/"
        },
        "id": "NHfl7WNdI7uQ",
        "outputId": "e60e4154-4bd8-4c38-be16-d3fc0d81952a"
      },
      "execution_count": null,
      "outputs": [
        {
          "output_type": "stream",
          "name": "stdout",
          "text": [
            "6が見つかりました\n"
          ]
        }
      ]
    },
    {
      "cell_type": "code",
      "source": [],
      "metadata": {
        "id": "40RgVYcyJ82Z"
      },
      "execution_count": null,
      "outputs": []
    }
  ]
}