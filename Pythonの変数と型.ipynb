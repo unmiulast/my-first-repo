{
  "nbformat": 4,
  "nbformat_minor": 0,
  "metadata": {
    "colab": {
      "provenance": [],
      "gpuType": "T4",
      "include_colab_link": true
    },
    "kernelspec": {
      "name": "python3",
      "display_name": "Python 3"
    },
    "language_info": {
      "name": "python"
    },
    "accelerator": "GPU"
  },
  "cells": [
    {
      "cell_type": "markdown",
      "metadata": {
        "id": "view-in-github",
        "colab_type": "text"
      },
      "source": [
        "<a href=\"https://colab.research.google.com/github/unmiulast/my-first-repo/blob/main/Python%E3%81%AE%E5%A4%89%E6%95%B0%E3%81%A8%E5%9E%8B.ipynb\" target=\"_parent\"><img src=\"https://colab.research.google.com/assets/colab-badge.svg\" alt=\"Open In Colab\"/></a>"
      ]
    },
    {
      "cell_type": "code",
      "execution_count": null,
      "metadata": {
        "id": "RUX4j8zkGowo"
      },
      "outputs": [],
      "source": [
        "a = 1"
      ]
    },
    {
      "cell_type": "markdown",
      "source": [
        "変数は値・文字列を格納する箱"
      ],
      "metadata": {
        "id": "4DkO4eDsQ78e"
      }
    },
    {
      "cell_type": "code",
      "source": [
        "b = \"Hello\""
      ],
      "metadata": {
        "id": "9LtoJ98kIWJH"
      },
      "execution_count": null,
      "outputs": []
    },
    {
      "cell_type": "code",
      "source": [
        "a = 1\n",
        "print(a)\n",
        "a = 2\n",
        "print(a)"
      ],
      "metadata": {
        "colab": {
          "base_uri": "https://localhost:8080/"
        },
        "id": "4hQa2ZCxIZiY",
        "outputId": "bec9cb6e-cede-4e29-d0c9-e8a374a8eea8"
      },
      "execution_count": null,
      "outputs": [
        {
          "output_type": "stream",
          "name": "stdout",
          "text": [
            "1\n",
            "2\n"
          ]
        }
      ]
    },
    {
      "cell_type": "code",
      "source": [
        "## int型\n",
        "\n",
        "type(1)"
      ],
      "metadata": {
        "colab": {
          "base_uri": "https://localhost:8080/"
        },
        "id": "yi-wBflgIl3M",
        "outputId": "abc71457-79d6-46b0-d315-6061c095738b"
      },
      "execution_count": null,
      "outputs": [
        {
          "output_type": "execute_result",
          "data": {
            "text/plain": [
              "int"
            ]
          },
          "metadata": {},
          "execution_count": 4
        }
      ]
    },
    {
      "cell_type": "markdown",
      "source": [
        "整数"
      ],
      "metadata": {
        "id": "OS5Lew3pRiK-"
      }
    },
    {
      "cell_type": "code",
      "source": [
        "## float型\n",
        "\n",
        "type(1.2)"
      ],
      "metadata": {
        "colab": {
          "base_uri": "https://localhost:8080/"
        },
        "id": "BkHBdZrzI57N",
        "outputId": "08e8cb91-69a5-4d94-f5a3-f81dc2720e06"
      },
      "execution_count": null,
      "outputs": [
        {
          "output_type": "execute_result",
          "data": {
            "text/plain": [
              "float"
            ]
          },
          "metadata": {},
          "execution_count": 5
        }
      ]
    },
    {
      "cell_type": "code",
      "source": [
        "## str型\n",
        "\n",
        "type(\"Hello\")"
      ],
      "metadata": {
        "colab": {
          "base_uri": "https://localhost:8080/"
        },
        "id": "iV72SwtfJApS",
        "outputId": "73d3d9a5-1f95-4145-9bd7-e5f1c403c11e"
      },
      "execution_count": null,
      "outputs": [
        {
          "output_type": "execute_result",
          "data": {
            "text/plain": [
              "str"
            ]
          },
          "metadata": {},
          "execution_count": 6
        }
      ]
    },
    {
      "cell_type": "markdown",
      "source": [
        "ストリング型"
      ],
      "metadata": {
        "id": "m6Zltc-zRvxb"
      }
    },
    {
      "cell_type": "code",
      "source": [
        "## datetime型\n",
        "\n",
        "import datetime\n",
        "\n",
        "now = datetime.datetime.now()\n",
        "print(now)"
      ],
      "metadata": {
        "colab": {
          "base_uri": "https://localhost:8080/"
        },
        "id": "lCZ40hFNJIVL",
        "outputId": "b183cf4f-3e13-488b-d4f0-99f36044adc3"
      },
      "execution_count": null,
      "outputs": [
        {
          "output_type": "stream",
          "name": "stdout",
          "text": [
            "2025-04-04 14:51:00.870030\n"
          ]
        }
      ]
    },
    {
      "cell_type": "code",
      "source": [
        "type(now)"
      ],
      "metadata": {
        "colab": {
          "base_uri": "https://localhost:8080/"
        },
        "id": "K2Ev8-J4JUdo",
        "outputId": "b5d4004a-9106-4695-feea-6206fe5f2437"
      },
      "execution_count": null,
      "outputs": [
        {
          "output_type": "execute_result",
          "data": {
            "text/plain": [
              "datetime.datetime"
            ]
          },
          "metadata": {},
          "execution_count": 2
        }
      ]
    },
    {
      "cell_type": "code",
      "source": [
        "## bool型\n",
        "\n",
        "type(True)"
      ],
      "metadata": {
        "colab": {
          "base_uri": "https://localhost:8080/"
        },
        "id": "Zk-gGxAJJnBT",
        "outputId": "8e8584f1-c2b6-423f-94cf-e03e1bd2c76c"
      },
      "execution_count": null,
      "outputs": [
        {
          "output_type": "execute_result",
          "data": {
            "text/plain": [
              "bool"
            ]
          },
          "metadata": {},
          "execution_count": 9
        }
      ]
    },
    {
      "cell_type": "code",
      "source": [
        "1 == 2"
      ],
      "metadata": {
        "colab": {
          "base_uri": "https://localhost:8080/"
        },
        "id": "JV7uXmLnJs5X",
        "outputId": "6f4c1508-76d6-4f47-b7dc-65c061003ce8"
      },
      "execution_count": null,
      "outputs": [
        {
          "output_type": "execute_result",
          "data": {
            "text/plain": [
              "False"
            ]
          },
          "metadata": {},
          "execution_count": 11
        }
      ]
    },
    {
      "cell_type": "code",
      "source": [
        "## list型\n",
        "\n",
        "a = [1, 2, \"Hello\"]\n",
        "type(a)"
      ],
      "metadata": {
        "colab": {
          "base_uri": "https://localhost:8080/"
        },
        "id": "S_li7cr_JwnS",
        "outputId": "9f20f072-35c6-423d-cbe0-f14bbad2e4ef"
      },
      "execution_count": null,
      "outputs": [
        {
          "output_type": "execute_result",
          "data": {
            "text/plain": [
              "list"
            ]
          },
          "metadata": {},
          "execution_count": 14
        }
      ]
    },
    {
      "cell_type": "markdown",
      "source": [
        "大カッコ[ ]でくくる"
      ],
      "metadata": {
        "id": "aHJeKn58UOyi"
      }
    },
    {
      "cell_type": "code",
      "source": [
        "## tuple型\n",
        "\n",
        "a = (1, 2, \"Hello\")\n",
        "type(a)"
      ],
      "metadata": {
        "colab": {
          "base_uri": "https://localhost:8080/"
        },
        "id": "4gi1BQvRJ79w",
        "outputId": "0a98e3f8-24c2-4450-f4e8-2f8017097443"
      },
      "execution_count": null,
      "outputs": [
        {
          "output_type": "execute_result",
          "data": {
            "text/plain": [
              "tuple"
            ]
          },
          "metadata": {},
          "execution_count": 15
        }
      ]
    },
    {
      "cell_type": "markdown",
      "source": [
        "かっこ（）でくくる"
      ],
      "metadata": {
        "id": "Bg4nVgT2UfkO"
      }
    },
    {
      "cell_type": "code",
      "source": [
        "## dict型\n",
        "\n",
        "a = {\n",
        "    \"Key1\": \"Hello\",\n",
        "    \"Key2\": \"Bye\",\n",
        "    \"num\": 1\n",
        "    }\n",
        "type(a)"
      ],
      "metadata": {
        "colab": {
          "base_uri": "https://localhost:8080/"
        },
        "id": "TzuN9JAMKKgM",
        "outputId": "ae2c3bff-c389-41cf-8ce6-c2a8d28f9c3b"
      },
      "execution_count": null,
      "outputs": [
        {
          "output_type": "execute_result",
          "data": {
            "text/plain": [
              "dict"
            ]
          },
          "metadata": {},
          "execution_count": 17
        }
      ]
    },
    {
      "cell_type": "markdown",
      "source": [],
      "metadata": {
        "id": "NdIb81YgUwvc"
      }
    },
    {
      "cell_type": "markdown",
      "source": [
        "・中カッコ { }でくくる\n",
        "\n",
        "・対応関係がある\n"
      ],
      "metadata": {
        "id": "GXO5bErpUmpC"
      }
    },
    {
      "cell_type": "code",
      "source": [
        "a[\"Key1\"]"
      ],
      "metadata": {
        "colab": {
          "base_uri": "https://localhost:8080/",
          "height": 35
        },
        "id": "6n1P16NwKdd0",
        "outputId": "b69cdad8-dce6-4c64-f301-5ac81f07a0d1"
      },
      "execution_count": null,
      "outputs": [
        {
          "output_type": "execute_result",
          "data": {
            "text/plain": [
              "'Hello'"
            ],
            "application/vnd.google.colaboratory.intrinsic+json": {
              "type": "string"
            }
          },
          "metadata": {},
          "execution_count": 18
        }
      ]
    },
    {
      "cell_type": "code",
      "source": [
        "10 + int(\"10\")"
      ],
      "metadata": {
        "colab": {
          "base_uri": "https://localhost:8080/"
        },
        "id": "KGt7Nos6Kmob",
        "outputId": "72c1d191-f228-4bd5-a623-c2cb9cde58e6"
      },
      "execution_count": null,
      "outputs": [
        {
          "output_type": "execute_result",
          "data": {
            "text/plain": [
              "20"
            ]
          },
          "metadata": {},
          "execution_count": 22
        }
      ]
    },
    {
      "cell_type": "markdown",
      "source": [
        "int  型への変更"
      ],
      "metadata": {
        "id": "_KZdIE80VFLG"
      }
    },
    {
      "cell_type": "code",
      "source": [
        "type(str(10))"
      ],
      "metadata": {
        "colab": {
          "base_uri": "https://localhost:8080/"
        },
        "id": "82AacfEtK2ge",
        "outputId": "cc659547-84f2-43bb-ffa3-462a34aa4223"
      },
      "execution_count": null,
      "outputs": [
        {
          "output_type": "execute_result",
          "data": {
            "text/plain": [
              "str"
            ]
          },
          "metadata": {},
          "execution_count": 23
        }
      ]
    },
    {
      "cell_type": "code",
      "source": [
        "\"10\" + str(10)"
      ],
      "metadata": {
        "colab": {
          "base_uri": "https://localhost:8080/",
          "height": 35
        },
        "id": "vXRfbMf2LGCF",
        "outputId": "18cc8ec5-5704-476c-8fdd-b21959b1c285"
      },
      "execution_count": null,
      "outputs": [
        {
          "output_type": "execute_result",
          "data": {
            "text/plain": [
              "'1010'"
            ],
            "application/vnd.google.colaboratory.intrinsic+json": {
              "type": "string"
            }
          },
          "metadata": {},
          "execution_count": 24
        }
      ]
    },
    {
      "cell_type": "markdown",
      "source": [
        "str 型への変更"
      ],
      "metadata": {
        "id": "uyi9pTIuVPsT"
      }
    },
    {
      "cell_type": "code",
      "source": [],
      "metadata": {
        "id": "6UmqoYO0LQag"
      },
      "execution_count": null,
      "outputs": []
    }
  ]
}