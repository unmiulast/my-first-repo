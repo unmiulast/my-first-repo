{
  "nbformat": 4,
  "nbformat_minor": 0,
  "metadata": {
    "colab": {
      "provenance": [],
      "gpuType": "T4",
      "include_colab_link": true
    },
    "kernelspec": {
      "name": "python3",
      "display_name": "Python 3"
    },
    "language_info": {
      "name": "python"
    },
    "accelerator": "GPU"
  },
  "cells": [
    {
      "cell_type": "markdown",
      "metadata": {
        "id": "view-in-github",
        "colab_type": "text"
      },
      "source": [
        "<a href=\"https://colab.research.google.com/github/unmiulast/my-first-repo/blob/main/list%E5%9E%8B(%E3%83%AA%E3%82%B9%E3%83%88).ipynb\" target=\"_parent\"><img src=\"https://colab.research.google.com/assets/colab-badge.svg\" alt=\"Open In Colab\"/></a>"
      ]
    },
    {
      "cell_type": "code",
      "execution_count": 1,
      "metadata": {
        "colab": {
          "base_uri": "https://localhost:8080/"
        },
        "id": "jjcBVeHbLknD",
        "outputId": "f6470f55-0fbd-4143-b52d-0bcfc86c0eec"
      },
      "outputs": [
        {
          "output_type": "execute_result",
          "data": {
            "text/plain": [
              "[1, 2, 'Hello']"
            ]
          },
          "metadata": {},
          "execution_count": 1
        }
      ],
      "source": [
        "a = [1, 2, \"Hello\"]\n",
        "a"
      ]
    },
    {
      "cell_type": "code",
      "source": [
        "a = [1, 2, \"Hello\", [3, 4]]\n",
        "a"
      ],
      "metadata": {
        "colab": {
          "base_uri": "https://localhost:8080/"
        },
        "id": "XoYelL2DNUVp",
        "outputId": "19f025f9-1d30-45da-aefc-8265e0c364e1"
      },
      "execution_count": 2,
      "outputs": [
        {
          "output_type": "execute_result",
          "data": {
            "text/plain": [
              "[1, 2, 'Hello', [3, 4]]"
            ]
          },
          "metadata": {},
          "execution_count": 2
        }
      ]
    },
    {
      "cell_type": "markdown",
      "source": [
        "リストの中にリストも入れられる"
      ],
      "metadata": {
        "id": "PJjF50_8bZmn"
      }
    },
    {
      "cell_type": "code",
      "source": [
        "a = []\n",
        "a"
      ],
      "metadata": {
        "colab": {
          "base_uri": "https://localhost:8080/"
        },
        "id": "P2aCP0qDNapD",
        "outputId": "552b9075-e19b-42a6-c0eb-d909c536d0f3"
      },
      "execution_count": 3,
      "outputs": [
        {
          "output_type": "execute_result",
          "data": {
            "text/plain": [
              "[]"
            ]
          },
          "metadata": {},
          "execution_count": 3
        }
      ]
    },
    {
      "cell_type": "code",
      "source": [
        "a = [1, 2, \"Hello\"]\n",
        "a[0]\n"
      ],
      "metadata": {
        "colab": {
          "base_uri": "https://localhost:8080/"
        },
        "id": "5JKCqxmlNekO",
        "outputId": "1706f087-81a6-471e-b9cc-534e807da082"
      },
      "execution_count": 4,
      "outputs": [
        {
          "output_type": "execute_result",
          "data": {
            "text/plain": [
              "1"
            ]
          },
          "metadata": {},
          "execution_count": 4
        }
      ]
    },
    {
      "cell_type": "markdown",
      "source": [
        "最初の要素は０番目"
      ],
      "metadata": {
        "id": "MhWo4TDXbz8t"
      }
    },
    {
      "cell_type": "code",
      "source": [
        "a[-1]"
      ],
      "metadata": {
        "colab": {
          "base_uri": "https://localhost:8080/",
          "height": 35
        },
        "id": "RcSxDxpwNmo3",
        "outputId": "7f4f0c6b-11ce-4fc8-fe85-71bcc502df49"
      },
      "execution_count": 5,
      "outputs": [
        {
          "output_type": "execute_result",
          "data": {
            "text/plain": [
              "'Hello'"
            ],
            "application/vnd.google.colaboratory.intrinsic+json": {
              "type": "string"
            }
          },
          "metadata": {},
          "execution_count": 5
        }
      ]
    },
    {
      "cell_type": "markdown",
      "source": [
        "最後の要素はー１番目"
      ],
      "metadata": {
        "id": "uIgv6HPfciKb"
      }
    },
    {
      "cell_type": "code",
      "source": [
        "a = [1, 2, \"Hello\", \"Bye\"]\n",
        "a[0:2]"
      ],
      "metadata": {
        "colab": {
          "base_uri": "https://localhost:8080/"
        },
        "id": "CyarkOOuNvmJ",
        "outputId": "c962f7d8-63a8-48e6-a0ee-e02768d9ae3f"
      },
      "execution_count": 6,
      "outputs": [
        {
          "output_type": "execute_result",
          "data": {
            "text/plain": [
              "[1, 2]"
            ]
          },
          "metadata": {},
          "execution_count": 6
        }
      ]
    },
    {
      "cell_type": "markdown",
      "source": [
        "０番目から2番目より前の要素を取り出す　スライス"
      ],
      "metadata": {
        "id": "wGl9g6-OdHjl"
      }
    },
    {
      "cell_type": "code",
      "source": [
        "a[:2]"
      ],
      "metadata": {
        "colab": {
          "base_uri": "https://localhost:8080/"
        },
        "id": "rJkumMMsdd73",
        "outputId": "3d740cb5-6292-475b-ad90-d85a6659256a"
      },
      "execution_count": 7,
      "outputs": [
        {
          "output_type": "execute_result",
          "data": {
            "text/plain": [
              "[1, 2]"
            ]
          },
          "metadata": {},
          "execution_count": 7
        }
      ]
    },
    {
      "cell_type": "markdown",
      "source": [
        "0は書かなくてもOK"
      ],
      "metadata": {
        "id": "9yNYKlQIdhbn"
      }
    },
    {
      "cell_type": "code",
      "source": [
        "a[2:]"
      ],
      "metadata": {
        "colab": {
          "base_uri": "https://localhost:8080/"
        },
        "id": "-9PkCg3jOGF3",
        "outputId": "ab1940d5-42c2-43a5-88e4-d051f4939815"
      },
      "execution_count": 8,
      "outputs": [
        {
          "output_type": "execute_result",
          "data": {
            "text/plain": [
              "['Hello', 'Bye']"
            ]
          },
          "metadata": {},
          "execution_count": 8
        }
      ]
    },
    {
      "cell_type": "markdown",
      "source": [
        "-1も書かなくてOK"
      ],
      "metadata": {
        "id": "PIAZ9sg4dsDI"
      }
    },
    {
      "cell_type": "code",
      "source": [
        "a[0] = 3\n",
        "a"
      ],
      "metadata": {
        "colab": {
          "base_uri": "https://localhost:8080/"
        },
        "id": "GGDbARKKOPno",
        "outputId": "35676be3-f56a-4d9b-b5ec-09eabb5c0317"
      },
      "execution_count": 9,
      "outputs": [
        {
          "output_type": "execute_result",
          "data": {
            "text/plain": [
              "[3, 2, 'Hello', 'Bye']"
            ]
          },
          "metadata": {},
          "execution_count": 9
        }
      ]
    },
    {
      "cell_type": "markdown",
      "source": [
        "要素の書き換え"
      ],
      "metadata": {
        "id": "-dwLBvIreBFn"
      }
    },
    {
      "cell_type": "code",
      "source": [
        "a[0:2] = [5, 6]\n",
        "a"
      ],
      "metadata": {
        "colab": {
          "base_uri": "https://localhost:8080/"
        },
        "id": "Gdms7y7XOcJe",
        "outputId": "f07ddac0-b2f5-4bc5-a9ec-73c0c69ed7cc"
      },
      "execution_count": 10,
      "outputs": [
        {
          "output_type": "execute_result",
          "data": {
            "text/plain": [
              "[5, 6, 'Hello', 'Bye']"
            ]
          },
          "metadata": {},
          "execution_count": 10
        }
      ]
    },
    {
      "cell_type": "code",
      "source": [
        "a.append(3)\n",
        "a"
      ],
      "metadata": {
        "id": "48m0Z_jbOjBB",
        "colab": {
          "base_uri": "https://localhost:8080/"
        },
        "outputId": "d528c516-1d97-4f4e-9192-b5883c53a7b6"
      },
      "execution_count": 11,
      "outputs": [
        {
          "output_type": "execute_result",
          "data": {
            "text/plain": [
              "[5, 6, 'Hello', 'Bye', 3]"
            ]
          },
          "metadata": {},
          "execution_count": 11
        }
      ]
    },
    {
      "cell_type": "markdown",
      "source": [
        "最後尾に追加"
      ],
      "metadata": {
        "id": "b-coRXihfKCf"
      }
    },
    {
      "cell_type": "code",
      "source": [
        "a.insert(2, 9)\n",
        "a"
      ],
      "metadata": {
        "id": "nFdOd2myOvI9",
        "colab": {
          "base_uri": "https://localhost:8080/"
        },
        "outputId": "6c4b6c7a-6483-4669-a715-649ce7643c37"
      },
      "execution_count": 12,
      "outputs": [
        {
          "output_type": "execute_result",
          "data": {
            "text/plain": [
              "[5, 6, 9, 'Hello', 'Bye', 3]"
            ]
          },
          "metadata": {},
          "execution_count": 12
        }
      ]
    },
    {
      "cell_type": "markdown",
      "source": [
        "途中に追加　indexを指定する"
      ],
      "metadata": {
        "id": "j8Q3kfuxfTXx"
      }
    },
    {
      "cell_type": "code",
      "source": [
        "del a[1]\n",
        "a"
      ],
      "metadata": {
        "colab": {
          "base_uri": "https://localhost:8080/"
        },
        "id": "n32kv6eeO6Qv",
        "outputId": "7abf79f8-f9ca-4eb5-976d-990c0848d524"
      },
      "execution_count": 13,
      "outputs": [
        {
          "output_type": "execute_result",
          "data": {
            "text/plain": [
              "[5, 9, 'Hello', 'Bye', 3]"
            ]
          },
          "metadata": {},
          "execution_count": 13
        }
      ]
    },
    {
      "cell_type": "markdown",
      "source": [
        "削除するindexを指定"
      ],
      "metadata": {
        "id": "w3PsdP4zgXLM"
      }
    },
    {
      "cell_type": "code",
      "source": [
        "a.remove(\"Hello\")\n",
        "a"
      ],
      "metadata": {
        "colab": {
          "base_uri": "https://localhost:8080/"
        },
        "id": "wzWN0YwWPCgd",
        "outputId": "3e26df3f-c64c-48fa-8207-a39975623a09"
      },
      "execution_count": 14,
      "outputs": [
        {
          "output_type": "execute_result",
          "data": {
            "text/plain": [
              "[5, 9, 'Bye', 3]"
            ]
          },
          "metadata": {},
          "execution_count": 14
        }
      ]
    },
    {
      "cell_type": "markdown",
      "source": [
        "・削除する値または文字列を指定\n",
        "・重複していたら先頭のもののみ消える\n",
        "\n",
        "\n",
        "\n",
        "\n"
      ],
      "metadata": {
        "id": "cu9Oh1NSgev0"
      }
    },
    {
      "cell_type": "code",
      "source": [
        "a.remove(3)\n",
        "a"
      ],
      "metadata": {
        "colab": {
          "base_uri": "https://localhost:8080/"
        },
        "id": "9HjYNRX0PJ9W",
        "outputId": "8edc44a5-a9cf-432f-cc2f-18b4f73745a8"
      },
      "execution_count": 15,
      "outputs": [
        {
          "output_type": "execute_result",
          "data": {
            "text/plain": [
              "[5, 9, 'Bye']"
            ]
          },
          "metadata": {},
          "execution_count": 15
        }
      ]
    },
    {
      "cell_type": "code",
      "source": [
        "b = a.pop(0)\n",
        "print(a)\n",
        "print(b)"
      ],
      "metadata": {
        "colab": {
          "base_uri": "https://localhost:8080/"
        },
        "id": "1Va2aavUPQRm",
        "outputId": "25d9bf08-6f08-4a98-c7ae-7d904a620df1"
      },
      "execution_count": 16,
      "outputs": [
        {
          "output_type": "stream",
          "name": "stdout",
          "text": [
            "[9, 'Bye']\n",
            "5\n"
          ]
        }
      ]
    },
    {
      "cell_type": "markdown",
      "source": [
        "要素を取得しながら消去する"
      ],
      "metadata": {
        "id": "Q8xdkEhsiM4J"
      }
    },
    {
      "cell_type": "code",
      "source": [],
      "metadata": {
        "id": "TXk8Z4HVPbne"
      },
      "execution_count": 16,
      "outputs": []
    }
  ]
}