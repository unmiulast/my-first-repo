{
  "nbformat": 4,
  "nbformat_minor": 0,
  "metadata": {
    "colab": {
      "provenance": [],
      "include_colab_link": true
    },
    "kernelspec": {
      "name": "python3",
      "display_name": "Python 3"
    },
    "language_info": {
      "name": "python"
    }
  },
  "cells": [
    {
      "cell_type": "markdown",
      "metadata": {
        "id": "view-in-github",
        "colab_type": "text"
      },
      "source": [
        "<a href=\"https://colab.research.google.com/github/unmiulast/my-first-repo/blob/main/sort%E3%81%A8sorted.ipynb\" target=\"_parent\"><img src=\"https://colab.research.google.com/assets/colab-badge.svg\" alt=\"Open In Colab\"/></a>"
      ]
    },
    {
      "cell_type": "code",
      "execution_count": null,
      "metadata": {
        "colab": {
          "base_uri": "https://localhost:8080/"
        },
        "id": "1yOljdvqQPHG",
        "outputId": "902d7fe9-83d7-4b80-9382-076ff480b10d"
      },
      "outputs": [
        {
          "output_type": "execute_result",
          "data": {
            "text/plain": [
              "[1, 2, 3]"
            ]
          },
          "metadata": {},
          "execution_count": 1
        }
      ],
      "source": [
        "# sort\n",
        "a = [2, 1, 3]\n",
        "a.sort()\n",
        "a"
      ]
    },
    {
      "cell_type": "markdown",
      "source": [
        "このドットソートというのは、この元々のリストの順番も変えてしまう"
      ],
      "metadata": {
        "id": "pGPSMHE7t2Tu"
      }
    },
    {
      "cell_type": "code",
      "source": [
        "# sorted\n",
        "a = [2, 1, 3]\n",
        "a_sorted = sorted(a)\n",
        "a_sorted\n",
        "\n",
        "a_sorted = sorted(a, reverse=True)\n",
        "a_sorted"
      ],
      "metadata": {
        "colab": {
          "base_uri": "https://localhost:8080/"
        },
        "id": "HVvnUqInRUfJ",
        "outputId": "91b5f14b-fc07-4a2b-c0c6-24adead6faa9"
      },
      "execution_count": null,
      "outputs": [
        {
          "output_type": "execute_result",
          "data": {
            "text/plain": [
              "[3, 2, 1]"
            ]
          },
          "metadata": {},
          "execution_count": 3
        }
      ]
    },
    {
      "cell_type": "markdown",
      "source": [
        "sortedはもともとのリストの構造は変えない"
      ],
      "metadata": {
        "id": "QK3F34Dft8fO"
      }
    },
    {
      "cell_type": "code",
      "source": [
        "# ソートのkeyに関数を設定\n",
        "a = [\"Hello\", \"bye\", \"Good Morning\"]\n",
        "sorted(a, key=len)"
      ],
      "metadata": {
        "colab": {
          "base_uri": "https://localhost:8080/"
        },
        "id": "q6p9jJ5XRe9a",
        "outputId": "1ae94bd4-5b7b-40f6-f890-240200b876aa"
      },
      "execution_count": null,
      "outputs": [
        {
          "output_type": "execute_result",
          "data": {
            "text/plain": [
              "['bye', 'Hello', 'Good Morning']"
            ]
          },
          "metadata": {},
          "execution_count": 4
        }
      ]
    },
    {
      "cell_type": "markdown",
      "source": [
        "この文字数が小さいものから順番に並んでいるのが分かる"
      ],
      "metadata": {
        "id": "Duz0QRrGub00"
      }
    },
    {
      "cell_type": "code",
      "source": [
        "# keyにラムダを使用して関数を設定\n",
        "people = [\n",
        "    {\"name\": \"Taro\", \"age\": 30},\n",
        "    {\"name\": \"Hanako\", \"age\": 25},\n",
        "    {\"name\": \"Koji\", \"age\": 28}\n",
        "]\n",
        "sorted(people, key=lambda x: x[\"age\"])"
      ],
      "metadata": {
        "colab": {
          "base_uri": "https://localhost:8080/"
        },
        "id": "U0s5TCBCSAAB",
        "outputId": "bbc8054e-e3cc-492d-f3fd-469f016f386a"
      },
      "execution_count": null,
      "outputs": [
        {
          "output_type": "execute_result",
          "data": {
            "text/plain": [
              "[{'name': 'Hanako', 'age': 25},\n",
              " {'name': 'Koji', 'age': 28},\n",
              " {'name': 'Taro', 'age': 30}]"
            ]
          },
          "metadata": {},
          "execution_count": 5
        }
      ]
    },
    {
      "cell_type": "markdown",
      "source": [
        "一個一個の要素のこのageを取り出して、それをキーにしてください"
      ],
      "metadata": {
        "id": "Ss3iB_2cu8TW"
      }
    },
    {
      "cell_type": "code",
      "source": [],
      "metadata": {
        "id": "KcizlVfRSkpU"
      },
      "execution_count": null,
      "outputs": []
    }
  ]
}