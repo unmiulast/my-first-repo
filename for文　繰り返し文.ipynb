{
  "nbformat": 4,
  "nbformat_minor": 0,
  "metadata": {
    "colab": {
      "provenance": [],
      "include_colab_link": true
    },
    "kernelspec": {
      "name": "python3",
      "display_name": "Python 3"
    },
    "language_info": {
      "name": "python"
    }
  },
  "cells": [
    {
      "cell_type": "markdown",
      "metadata": {
        "id": "view-in-github",
        "colab_type": "text"
      },
      "source": [
        "<a href=\"https://colab.research.google.com/github/unmiulast/my-first-repo/blob/main/for%E6%96%87%E3%80%80%E7%B9%B0%E3%82%8A%E8%BF%94%E3%81%97%E6%96%87.ipynb\" target=\"_parent\"><img src=\"https://colab.research.google.com/assets/colab-badge.svg\" alt=\"Open In Colab\"/></a>"
      ]
    },
    {
      "cell_type": "code",
      "source": [
        "## 基本構文\n",
        "\n",
        "a = [1, 2, \"Hello\"]\n",
        "\n",
        "for j in a:\n",
        "  print(j)"
      ],
      "metadata": {
        "colab": {
          "base_uri": "https://localhost:8080/"
        },
        "id": "B_zEr8tSBljb",
        "outputId": "b5bc1a50-66a5-4d7b-bcbc-2053b1993248"
      },
      "execution_count": 11,
      "outputs": [
        {
          "output_type": "stream",
          "name": "stdout",
          "text": [
            "1\n",
            "2\n",
            "Hello\n"
          ]
        }
      ]
    },
    {
      "cell_type": "code",
      "source": [
        "## rangeの使い方\n",
        "\n",
        "for i in range(4):\n",
        "  print(i)"
      ],
      "metadata": {
        "colab": {
          "base_uri": "https://localhost:8080/"
        },
        "id": "QJ-1HenFB4tv",
        "outputId": "4843d2bd-17dc-4629-ff15-3281bc196f8b"
      },
      "execution_count": 12,
      "outputs": [
        {
          "output_type": "stream",
          "name": "stdout",
          "text": [
            "0\n",
            "1\n",
            "2\n",
            "3\n"
          ]
        }
      ]
    },
    {
      "cell_type": "code",
      "source": [
        "list(range(4))"
      ],
      "metadata": {
        "colab": {
          "base_uri": "https://localhost:8080/"
        },
        "id": "KnWPRHszCFDf",
        "outputId": "caea5a8b-8758-451c-b315-e14a0ee3832f"
      },
      "execution_count": 13,
      "outputs": [
        {
          "output_type": "execute_result",
          "data": {
            "text/plain": [
              "[0, 1, 2, 3]"
            ]
          },
          "metadata": {},
          "execution_count": 13
        }
      ]
    },
    {
      "cell_type": "code",
      "source": [
        "## 辞書とfor文\n",
        "\n",
        "a = {\n",
        "    \"key1\": \"Hello\",\n",
        "    \"key2\": \"Bye\",\n",
        "    \"num\": 1\n",
        "  }\n",
        "\n",
        "for i, j in a.items():\n",
        "  print(i)\n",
        "  print(j)"
      ],
      "metadata": {
        "colab": {
          "base_uri": "https://localhost:8080/"
        },
        "id": "aJy7ypGCCKiC",
        "outputId": "3a1543f9-ba8a-44ae-a2bc-7f988dae20a0"
      },
      "execution_count": 14,
      "outputs": [
        {
          "output_type": "stream",
          "name": "stdout",
          "text": [
            "key1\n",
            "Hello\n",
            "key2\n",
            "Bye\n",
            "num\n",
            "1\n"
          ]
        }
      ]
    },
    {
      "cell_type": "code",
      "source": [
        "for i in a.keys():\n",
        "  print(i)"
      ],
      "metadata": {
        "colab": {
          "base_uri": "https://localhost:8080/"
        },
        "id": "v98unUTMjHDM",
        "outputId": "ae4156c0-4061-48a3-c3cc-e494ddea8fd3"
      },
      "execution_count": 15,
      "outputs": [
        {
          "output_type": "stream",
          "name": "stdout",
          "text": [
            "key1\n",
            "key2\n",
            "num\n"
          ]
        }
      ]
    },
    {
      "cell_type": "code",
      "source": [
        "for i in a.values():\n",
        "  print(i)"
      ],
      "metadata": {
        "colab": {
          "base_uri": "https://localhost:8080/"
        },
        "id": "1E7v5qB5jSYd",
        "outputId": "b31c9374-cc4b-42e4-af4d-b5f8d0b5008e"
      },
      "execution_count": 16,
      "outputs": [
        {
          "output_type": "stream",
          "name": "stdout",
          "text": [
            "Hello\n",
            "Bye\n",
            "1\n"
          ]
        }
      ]
    },
    {
      "cell_type": "code",
      "source": [
        "## enumerateの使い方\n",
        "\n",
        "a = [1, 2, \"Hello\"]\n",
        "\n",
        "for i in enumerate(a):\n",
        "  print(i)"
      ],
      "metadata": {
        "colab": {
          "base_uri": "https://localhost:8080/"
        },
        "id": "slOt_UiPCYVX",
        "outputId": "fc04e826-e941-44b2-8f44-3fb25eaeaa5e"
      },
      "execution_count": 21,
      "outputs": [
        {
          "output_type": "stream",
          "name": "stdout",
          "text": [
            "(0, 1)\n",
            "(1, 2)\n",
            "(2, 'Hello')\n"
          ]
        }
      ]
    },
    {
      "cell_type": "markdown",
      "source": [
        "インデックスも同時に取り出して組み合わせて出力してくれる"
      ],
      "metadata": {
        "id": "-MQ1HlbvjngB"
      }
    },
    {
      "cell_type": "code",
      "source": [
        "## list内包表記の使い方\n",
        "\n",
        "a = [1, 2, 3]\n",
        "b = []\n",
        "\n",
        "for i in a:\n",
        "  b.append(i * 2)\n",
        "b"
      ],
      "metadata": {
        "colab": {
          "base_uri": "https://localhost:8080/"
        },
        "id": "CD3wihMVCaDF",
        "outputId": "26806d30-fd7a-4985-a4ce-637d6ccb1a83"
      },
      "execution_count": 18,
      "outputs": [
        {
          "output_type": "execute_result",
          "data": {
            "text/plain": [
              "[2, 4, 6]"
            ]
          },
          "metadata": {},
          "execution_count": 18
        }
      ]
    },
    {
      "cell_type": "code",
      "source": [
        "[i*2 for i in a]"
      ],
      "metadata": {
        "colab": {
          "base_uri": "https://localhost:8080/"
        },
        "id": "YcGYkZ5KDTXb",
        "outputId": "fd3e6676-e471-4aca-aab9-b21d9a5cc5af"
      },
      "execution_count": 19,
      "outputs": [
        {
          "output_type": "execute_result",
          "data": {
            "text/plain": [
              "[2, 4, 6]"
            ]
          },
          "metadata": {},
          "execution_count": 19
        }
      ]
    },
    {
      "cell_type": "markdown",
      "source": [
        "こういうシンプルなFOR文を使うときは、逆にリスト\n",
        "\n",
        "内包表記を使った方がわかりやすいですし、処理もこちらの方が速い"
      ],
      "metadata": {
        "id": "mT7fUZgnkrw3"
      }
    },
    {
      "cell_type": "code",
      "source": [
        "## breakの使い方\n",
        "\n",
        "a = [1, 2, 3, 4, 5]\n",
        "\n",
        "for i in a:\n",
        "  if i > 3:\n",
        "    break\n",
        "  print(i)"
      ],
      "metadata": {
        "colab": {
          "base_uri": "https://localhost:8080/"
        },
        "id": "vcDiRfGHDd4B",
        "outputId": "5e45ce98-3628-4d9b-e31f-434c71ee4341"
      },
      "execution_count": 20,
      "outputs": [
        {
          "output_type": "stream",
          "name": "stdout",
          "text": [
            "1\n",
            "2\n",
            "3\n"
          ]
        }
      ]
    },
    {
      "cell_type": "code",
      "source": [],
      "metadata": {
        "id": "Cf6OZtKZDu9i"
      },
      "execution_count": 20,
      "outputs": []
    }
  ]
}