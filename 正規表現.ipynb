{
  "nbformat": 4,
  "nbformat_minor": 0,
  "metadata": {
    "colab": {
      "provenance": [],
      "include_colab_link": true
    },
    "kernelspec": {
      "name": "python3",
      "display_name": "Python 3"
    },
    "language_info": {
      "name": "python"
    }
  },
  "cells": [
    {
      "cell_type": "markdown",
      "metadata": {
        "id": "view-in-github",
        "colab_type": "text"
      },
      "source": [
        "<a href=\"https://colab.research.google.com/github/unmiulast/my-first-repo/blob/main/%E6%AD%A3%E8%A6%8F%E8%A1%A8%E7%8F%BE.ipynb\" target=\"_parent\"><img src=\"https://colab.research.google.com/assets/colab-badge.svg\" alt=\"Open In Colab\"/></a>"
      ]
    },
    {
      "cell_type": "code",
      "execution_count": null,
      "metadata": {
        "colab": {
          "base_uri": "https://localhost:8080/"
        },
        "id": "f0VH5-w5gCmM",
        "outputId": "4a2c2476-4a7f-4162-c10c-57414091b577"
      },
      "outputs": [
        {
          "output_type": "execute_result",
          "data": {
            "text/plain": [
              "['2020-05-25', '2020-05-26']"
            ]
          },
          "metadata": {},
          "execution_count": 2
        }
      ],
      "source": [
        "import re\n",
        "\n",
        "text = \"今日は2020-05-25です。明日は2020-05-26です\"\n",
        "\n",
        "# 日付だけ取り出す\n",
        "match_date = re.search(r\"\\d{4}-\\d{2}-\\d{2}\", text)\n",
        "match_date.group()\n",
        "\n",
        "# 日付だけ取り出す\n",
        "match_date = re.findall(r\"\\d{4}-\\d{2}-\\d{2}\", text)\n",
        "match_date"
      ]
    },
    {
      "cell_type": "code",
      "source": [],
      "metadata": {
        "id": "Yi-FDja4hN3o"
      },
      "execution_count": null,
      "outputs": []
    }
  ]
}